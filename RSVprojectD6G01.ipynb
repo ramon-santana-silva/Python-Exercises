{
  "nbformat": 4,
  "nbformat_minor": 0,
  "metadata": {
    "colab": {
      "provenance": [],
      "include_colab_link": true
    },
    "kernelspec": {
      "name": "python3",
      "display_name": "Python 3"
    },
    "language_info": {
      "name": "python"
    }
  },
  "cells": [
    {
      "cell_type": "markdown",
      "metadata": {
        "id": "view-in-github",
        "colab_type": "text"
      },
      "source": [
        "<a href=\"https://colab.research.google.com/github/ramon-santana-silva/Python-Exercises/blob/main/RSVprojectD6G01.ipynb\" target=\"_parent\"><img src=\"https://colab.research.google.com/assets/colab-badge.svg\" alt=\"Open In Colab\"/></a>"
      ]
    },
    {
      "cell_type": "markdown",
      "source": [
        "<h1>Projeto Categorização de Clientes da Grupo Reserva</h1>\n",
        "<br>\n",
        "<h2>CONTEXTO</h2>\n",
        "\n",
        "Grupo Reserva é uma empresa que busca se reinventar a cada dia pois acredita e confia em recomeço.\n",
        "Nos períodos difíceis a  empresa buscou através da capacidade de resiliência e superação incorporar ao seu grupo Reserva a AR&CO(braço de lifestyle e vestuário da Arezzo&Co) estrategia  de House of Brands, adquiri a TROC (plataflorma on-line de artigos de second hand que opera no segmento AB(empresa sustentável ao investir na economia circular).\n",
        "A empresa busca ser referencia em sustentabilidade e liderar a transformação da industria da moda.\n",
        "Portfólio abriga 13 marcas: Arezzo, Schutz, Anacapri, Alexandre Birman, Fiever, Alme, Vans®, Reserva,Reserva Mini, Oficina Reserva, Reserva Go, Ink e Eva.\n",
        "Aposta nas plataformas digitais.   "
      ],
      "metadata": {
        "id": "FUOF1iBYPdyB"
      }
    },
    {
      "cell_type": "markdown",
      "source": [
        "<h1>OBJETIVO</h1>\n",
        "Construir um modelo que permite a \"Grupo Reserva\" categorizar seus clientes dos diversos canais de vendas(site,instagram, facebook, linkedin e whatsapp),otimizados o faturamento da empresa, reduzindo as barreras entre o fisico e o digital.\n",
        " Mais do que uma empresa de roupas, uma verdadeira startup de comunicação "
      ],
      "metadata": {
        "id": "eyST7fjIZcOm"
      }
    },
    {
      "cell_type": "markdown",
      "source": [
        "<h3>Objetivo do negócio:</h3> Nessa etapa é onde você vai entender o negócio todo em si, para que você saiba como, quando, com quem, onde e quais pessoas são afetadas com seu projeto.<br>\n",
        "Existem 3 tarefas dentro do objetivo de negócio, que seriam as seguintes:<br>\n",
        "Objetivos de negócio: Nessa etapa você precisa descobrir os principais impedimentos e fatores que podem influenciar em suas análises para o projeto final.<br>\n",
        "Background do projeto: Nesta etapa é onde você entende o background do projeto, mapeando onde você está entrando e se questionar quem são as pessoas chaves, quem toma as decisões, quem será afetado pelo projeto e como as pessoas executam a atividade que você tratará com o projeto.<br>\n",
        "Métricas de sucesso: Definir os critérios de sucessos para definir o que será um projeto bem sucedido para o negócio.<br>\n",
        "Principais perguntas: Entender qual o modelo de negócio da empresa, como são executadas as tarefas, porque buscam esse produto, como está a concorrência, mapear os objetivos do negócio, mapear as métricas, verificar qual problema que o projeto vai resolver e quais são as métricas do sucesso.<br>\n",
        "Avaliar a situação: Deve-se avaliar a situação do negócio e todos os problemas que rodeiam ele. A partir dessa análise consegue-se verificar quais são as principais dores que o projeto deve resolver.<br>\n",
        "Inventário de recursos: Levantar e mapear todos os recursos disponíveis para o projeto,ou seja, mão de obra e ferramentas.\n",
        "Requisitos, premissas e restrições: Listaremos os requisitos do projeto, cronograma de conclusão, quais as questões de seguranças.<br>\n",
        "<h3>As premissas</h3> são sentenças que são consideradas verdadeiras. As restrições de componentes técnicos, tempo e financeiro.\n",
        "<h3>Riscos e contingência:</h3> Onde listaremos os riscos do projeto e os planos de contingência para esses riscos<br>\n",
        "<h3>Terminologia:</h3> É onde fazemos uma pequena lista de palavras e termos para as pessoas envolvidas no projeto.<br>\n",
        "Custos e benefícios: Avaliação financeira do projeto, custo de implantação e benefício financeiro.<br>\n",
        "<h3>Principais perguntas:</h3>\n",
        "Identifique os recursos disponíveis para o projeto, os dados fundamentais para que o projeto seja realizado existem? Estão concentrados em um mesmo local ou vem de fontes diferentes?\n",
        "<br>\n",
        "<h3>Pessoas especialistas na área ou no processo -</h3> \n",
        "saiba quem são<br>\n",
        " ○ Alinhe os prazos do projeto\n",
        " ○ Existem restrições de seguranças? Restrições técnicas? Qual é o limite financeiro do projeto? Existe um limite de armazenamento no banco de dados? Quais são as premissas do negócio? Riscos do projeto: Eles existem? Como podem ser controlados? Quais são os planos de contingência?\n",
        "<h3>Vocabulário da empresa:</h3> Existem termos comuns ao negócio? <h3>Custos projetados para o projeto:</h3> Quais são os benefícios financeiros dele?\n",
        "<h3>Data Mining Goals:</h3>\n",
        "Aqui deve-se determinar qual será o objetivo que os dados devem sanar, e quais os possíveis insights que podemos tirar dele. Qual será o critério de sucesso da mineiração de dados<br>\n",
        "<h3>Meta de mineração de dados:</h3>\n",
        "Tradução do objetivo de negócio em termos técnicos.\n",
        "<h3>Critérios de sucesso da mineração de dados:</h3> Traduzir o sucesso em valores.\n",
        "<h3>Principais perguntas:</h3>\n",
        "Entenda o produto da empresa:<br>\n",
        "  \n",
        "\n",
        "*   Como é o modelo de negócio dela?\n",
        "*   Como o objetivo do negócio pode ser atingido através dos dados?\n",
        "*   Qual o problema de mineração do negócio?Ou seja, seus dados irão permitir que o cliente determine, classifique, clusterize ou preveja algo que solucione seu problema de negócio? \n",
        "*   Qual o critério de sucesso da mineração de dados? O que vai indicar que seu problema de mineração de dados está resolvido? Qual a assertividade dos projetos que ocorrem no mercado? Com base neles, qual a assertividade esperada do seu projeto de dados?\n",
        "<br>\n",
        "<h3>Plano de projeto:</h3> Deve-se verificar quais serão os passos do projeto e qual o cronograma do mesmo, determinar as tecnologias e tarefas que serão realizadas ao longo do projeto.\n",
        "Plano de projeto: Lista de tarefas a serem executadas.\n",
        "Avaliação inicial de ferramentas e técnicas: Onde escolheremos uma primeira ferramenta e técnica de mineiração de dados.\n",
        "Principais perguntas: Entenda o produto da empresa: Como é o modelo de negócio dela? Quais são as tarefas que precisam ser executadas? Qual deve ser o cronograma do projeto para que ele seja entregue dentro do prazo? Quais são as tarefas que deverão ser revistas ao longo do projeto? Que tecnologias e ferramentas serão necessárias para que o projeto seja executado? Quais serão as técnicas de mineração de dados que serão utilizadas?\n"
      ],
      "metadata": {
        "id": "O5QydKNdcWIi"
      }
    }
  ]
}