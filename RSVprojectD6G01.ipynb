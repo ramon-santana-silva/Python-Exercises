{
  "nbformat": 4,
  "nbformat_minor": 0,
  "metadata": {
    "colab": {
      "provenance": [],
      "authorship_tag": "ABX9TyOd0tp4I2UpqZJ27y5biHL5",
      "include_colab_link": true
    },
    "kernelspec": {
      "name": "python3",
      "display_name": "Python 3"
    },
    "language_info": {
      "name": "python"
    }
  },
  "cells": [
    {
      "cell_type": "markdown",
      "metadata": {
        "id": "view-in-github",
        "colab_type": "text"
      },
      "source": [
        "<a href=\"https://colab.research.google.com/github/ramon-santana-silva/Python-Exercises/blob/main/RSVprojectD6G01.ipynb\" target=\"_parent\"><img src=\"https://colab.research.google.com/assets/colab-badge.svg\" alt=\"Open In Colab\"/></a>"
      ]
    },
    {
      "cell_type": "markdown",
      "source": [
        "<h1>Projeto Categorização de Clientes da Grupo Reserva</h1>\n",
        "<br>\n",
        "<h2>CONTEXTO</h2>\n",
        "\n",
        "Grupo Reserva é uma empresa que busca se reinventar a cada dia pois acredita e confia em recomeço.\n",
        "Nos períodos difíceis a  empresa buscou através da capacidade de resiliência e superação incorporar ao seu grupo Reserva a AR&CO(braço de lifestyle e vestuário da Arezzo&Co) estrategia  de House of Brands, adquiri a TROC (plataflorma on-line de artigos de second hand que opera no segmento AB(empresa sustentável ao investir na economia circular).\n",
        "A empresa busca ser referencia em sustentabilidade e liderar a transformação da industria da moda.\n",
        "Portfólio abriga 13 marcas: Arezzo, Schutz, Anacapri, Alexandre Birman, Fiever, Alme, Vans®, Reserva,Reserva Mini, Oficina Reserva, Reserva Go, Ink e Eva.\n",
        "Aposta nas plataformas digitais.   "
      ],
      "metadata": {
        "id": "FUOF1iBYPdyB"
      }
    },
    {
      "cell_type": "markdown",
      "source": [
        "<h1>OBJETIVO</h1>\n",
        "Construir um modelo que permite a \"Grupo Reserva\" categorizar seus clientes dos diversos canais de vendas(site,instagram, facebook, linkedin e whatsapp),otimizados o faturamento da empresa, reduzindo as barreras entre o fisico e o digital.\n",
        " Mais do que uma empresa de roupas, uma verdadeira startup de comunicação "
      ],
      "metadata": {
        "id": "eyST7fjIZcOm"
      }
    }
  ]
}